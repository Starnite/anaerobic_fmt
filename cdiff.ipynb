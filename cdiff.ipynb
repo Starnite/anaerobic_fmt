{
 "cells": [
  {
   "cell_type": "code",
   "execution_count": 25,
   "metadata": {
    "collapsed": true
   },
   "outputs": [],
   "source": [
    "import pandas as pd\n",
    "import seaborn as sns\n",
    "import matplotlib.pyplot as plt\n",
    "import numpy as np\n",
    "import os"
   ]
  },
  {
   "cell_type": "code",
   "execution_count": 31,
   "metadata": {
    "collapsed": false
   },
   "outputs": [],
   "source": [
    "seq_freq = pd.read_csv(\"nochim_sequences.csv\", index_col=0).transpose()\n",
    "taxa = pd.read_csv(\"species_assignment_new.csv\", index_col=0)"
   ]
  },
  {
   "cell_type": "code",
   "execution_count": 32,
   "metadata": {
    "collapsed": true
   },
   "outputs": [],
   "source": [
    "#merge taxa and seq tables\n",
    "otu = pd.merge(taxa, seq_freq, left_index=True, right_index=True)"
   ]
  },
  {
   "cell_type": "code",
   "execution_count": 33,
   "metadata": {
    "collapsed": false
   },
   "outputs": [],
   "source": [
    "cdiff = otu[otu[\"Species\"]==\"difficile\"]"
   ]
  },
  {
   "cell_type": "code",
   "execution_count": 34,
   "metadata": {
    "collapsed": false
   },
   "outputs": [
    {
     "data": {
      "text/html": [
       "<div>\n",
       "<style>\n",
       "    .dataframe thead tr:only-child th {\n",
       "        text-align: right;\n",
       "    }\n",
       "\n",
       "    .dataframe thead th {\n",
       "        text-align: left;\n",
       "    }\n",
       "\n",
       "    .dataframe tbody tr th {\n",
       "        vertical-align: top;\n",
       "    }\n",
       "</style>\n",
       "<table border=\"1\" class=\"dataframe\">\n",
       "  <thead>\n",
       "    <tr style=\"text-align: right;\">\n",
       "      <th></th>\n",
       "      <th>Kingdom</th>\n",
       "      <th>Phylum</th>\n",
       "      <th>Class</th>\n",
       "      <th>Order</th>\n",
       "      <th>Family</th>\n",
       "      <th>Genus</th>\n",
       "      <th>Species</th>\n",
       "      <th>ndc407</th>\n",
       "      <th>ndc408</th>\n",
       "      <th>ndc409</th>\n",
       "      <th>...</th>\n",
       "      <th>ndc466</th>\n",
       "      <th>ndc467</th>\n",
       "      <th>ndc468</th>\n",
       "      <th>ndc469</th>\n",
       "      <th>ndc470</th>\n",
       "      <th>ndc471</th>\n",
       "      <th>ndc472</th>\n",
       "      <th>ndc473</th>\n",
       "      <th>ndc474</th>\n",
       "      <th>ndc475</th>\n",
       "    </tr>\n",
       "  </thead>\n",
       "  <tbody>\n",
       "  </tbody>\n",
       "</table>\n",
       "<p>0 rows × 76 columns</p>\n",
       "</div>"
      ],
      "text/plain": [
       "Empty DataFrame\n",
       "Columns: [Kingdom, Phylum, Class, Order, Family, Genus, Species, ndc407, ndc408, ndc409, ndc410, ndc411, ndc412, ndc413, ndc414, ndc415, ndc416, ndc417, ndc418, ndc419, ndc420, ndc421, ndc422, ndc423, ndc424, ndc425, ndc426, ndc427, ndc428, ndc429, ndc430, ndc431, ndc432, ndc433, ndc434, ndc435, ndc436, ndc437, ndc438, ndc439, ndc440, ndc441, ndc442, ndc443, ndc444, ndc445, ndc446, ndc447, ndc448, ndc449, ndc450, ndc451, ndc452, ndc453, ndc454, ndc455, ndc456, ndc457, ndc458, ndc459, ndc460, ndc461, ndc462, ndc463, ndc464, ndc465, ndc466, ndc467, ndc468, ndc469, ndc470, ndc471, ndc472, ndc473, ndc474, ndc475]\n",
       "Index: []\n",
       "\n",
       "[0 rows x 76 columns]"
      ]
     },
     "execution_count": 34,
     "metadata": {},
     "output_type": "execute_result"
    }
   ],
   "source": [
    "cdiff"
   ]
  },
  {
   "cell_type": "code",
   "execution_count": null,
   "metadata": {
    "collapsed": true
   },
   "outputs": [],
   "source": []
  }
 ],
 "metadata": {
  "kernelspec": {
   "display_name": "Python 3",
   "language": "python",
   "name": "python3"
  },
  "language_info": {
   "codemirror_mode": {
    "name": "ipython",
    "version": 3
   },
   "file_extension": ".py",
   "mimetype": "text/x-python",
   "name": "python",
   "nbconvert_exporter": "python",
   "pygments_lexer": "ipython3",
   "version": "3.6.0"
  }
 },
 "nbformat": 4,
 "nbformat_minor": 2
}

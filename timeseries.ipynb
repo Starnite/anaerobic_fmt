{
 "cells": [
  {
   "cell_type": "markdown",
   "metadata": {},
   "source": [
    "### Timeseries for the patient:donor relative abundance ratio of specific genera\n",
    "Using the \"high-confidence\" genera"
   ]
  },
  {
   "cell_type": "code",
   "execution_count": 1,
   "metadata": {
    "collapsed": true
   },
   "outputs": [],
   "source": [
    "import pandas as pd\n",
    "import seaborn as sns\n",
    "import matplotlib.pyplot as plt\n",
    "import numpy as np\n",
    "from sklearn.metrics.pairwise import pairwise_distances\n",
    "import skbio\n",
    "from matplotlib.backends.backend_pdf import PdfPages \n",
    "from matplotlib import pylab\n",
    "import os\n",
    "from collections import OrderedDict"
   ]
  },
  {
   "cell_type": "code",
   "execution_count": 2,
   "metadata": {
    "collapsed": true
   },
   "outputs": [],
   "source": [
    "def unique(seq, idfun=None): \n",
    "   # order preserving\n",
    "    if idfun is None:\n",
    "        def idfun(x): return x\n",
    "    seen = {}\n",
    "    result = []\n",
    "    for item in seq:\n",
    "        if item != np.nan:\n",
    "            marker = idfun(item)\n",
    "            if marker in seen: continue\n",
    "            seen[marker] = 1\n",
    "            result.append(item)\n",
    "    return result"
   ]
  },
  {
   "cell_type": "code",
   "execution_count": 6,
   "metadata": {
    "collapsed": true
   },
   "outputs": [],
   "source": [
    "#takes in more params\n",
    "def engraftment_capability_all_otus_all_timepoints(otu_table_counts, otu_table_abundance, metadata):\n",
    "    engraftment_capablity_df = pd.DataFrame(columns=[\"timepoint\",\"patient\",\"otu\", \"otu_source\",\"count\", \"abundance\", \"aerobic\", \"donor\", \"donor_count\", \"donor_abundance\", \"donor_direct\"])\n",
    "    donor_only = {} #dict where keys are patient ids and values are lists of indices representing seq vars that are in \n",
    "                    #the corresponding donor but not in the patient originally, where the first list is direct and the second pma \n",
    "    for i in otu_table_counts.index:\n",
    "        if metadata.loc[i, \"timepoint\"] == \"Pre-FMT\":\n",
    "            donor_only[metadata.loc[i, \"person_id\"]] = [list(set(list(otu_table_counts.loc[metadata.loc[i, \"direct_donor_fmt_id\"]].nonzero()[0]))-set(list(otu_table_counts.loc[i].nonzero()[0]))),list(set(list(otu_table_counts.loc[metadata.loc[i, \"pma_donor_fmt_id\"]].nonzero()[0]))-set(list(otu_table_counts.loc[i].nonzero()[0])))]\n",
    "    both = {}\n",
    "    for i in otu_table_counts.index:\n",
    "        if metadata.loc[i, \"timepoint\"] == \"Pre-FMT\":\n",
    "            both[metadata.loc[i, \"person_id\"]] = [list(set(list(otu_table_counts.loc[metadata.loc[i, \"direct_donor_fmt_id\"]].nonzero()[0]))&set(list(otu_table_counts.loc[i].nonzero()[0]))),list(set(list(otu_table_counts.loc[metadata.loc[i, \"pma_donor_fmt_id\"]].nonzero()[0]))&set(list(otu_table_counts.loc[i].nonzero()[0])))]\n",
    "    patient_only = {}\n",
    "    for i in otu_table_counts.index:\n",
    "        if metadata.loc[i, \"timepoint\"] == \"Pre-FMT\":\n",
    "            patient_only[metadata.loc[i, \"person_id\"]] = [list(set(list(otu_table_counts.loc[i].nonzero()[0]))-set(list(otu_table_counts.loc[metadata.loc[i, \"direct_donor_fmt_id\"]].nonzero()[0]))),list(set(list(otu_table_counts.loc[i].nonzero()[0]))-set(list(otu_table_counts.loc[metadata.loc[i, \"pma_donor_fmt_id\"]].nonzero()[0])))]\n",
    "    timepoints = list(metadata[\"timepoint\"].unique())[:-1]\n",
    "    #timepoints = timepoints[~np.isnan(timepoints)]\n",
    "    patients = list(metadata[\"patient_num\"].unique())[:-1]\n",
    "    #patients = patients[~np.isnan(patients)]\n",
    "    otus = otu_table_counts.columns\n",
    "    \n",
    "    for timepoint in timepoints:\n",
    "        for patient in patients: \n",
    "            try:\n",
    "                sample_id = metadata.index[(metadata[\"person_id\"] == patient) & (metadata[\"timepoint\"] == timepoint)][0]\n",
    "            except Exception as e:\n",
    "                print(e)\n",
    "                print(patient, timepoint)\n",
    "                \n",
    "            aerobic = metadata.loc[sample_id, \"anaerobic_fmt\"]\n",
    "            donor = int(metadata.loc[sample_id,\"donor_fmt_num\"])\n",
    "            for otu in otus:\n",
    "                count = otu_table_counts.loc[sample_id, otu]\n",
    "                abundance = otu_table_abundance.loc[sample_id, otu]\n",
    "                otu_index = otu_table_counts.columns.get_loc(otu)\n",
    "                for i, dp in enumerate([\"direct\", \"pma\"]):\n",
    "                    \n",
    "                    if otu_index in donor_only[patient][i]:\n",
    "                        otu_source = \"donor\"\n",
    "                    elif otu_index in both[patient][i]:\n",
    "                        otu_source = \"both\"\n",
    "                    elif otu_index in patient_only[patient][i]:\n",
    "                        otu_source = \"patient\"\n",
    "                    else:\n",
    "                        otu_source = \"environmental\"\n",
    "                    donor_count = otu_table_counts.loc[metadata.loc[sample_id, \"{}_donor_fmt_id\".format(dp)], otu]\n",
    "                    donor_abundance = otu_table_abundance.loc[metadata.loc[sample_id, \"{}_donor_fmt_id\".format(dp)], otu]\n",
    "                    engraftment_capablity_df = engraftment_capablity_df.append({\"timepoint\":timepoint, \"patient\":patient, \"otu\":otu, \"otu_source\":otu_source, \"count\":count, \"abundance\":abundance, \"aerobic\":aerobic, \"donor\":donor, \"donor_count\":donor_count, \"donor_abundance\":donor_abundance, \"donor_direct\":dp,}, ignore_index=True)\n",
    "            \n",
    "    return engraftment_capablity_df"
   ]
  },
  {
   "cell_type": "code",
   "execution_count": 7,
   "metadata": {
    "collapsed": true
   },
   "outputs": [],
   "source": [
    "genus_percent = pd.read_csv(\"abundances_by_tax_level_relfreq_high_confidence/Genus_otu_table.csv\", index_col=0).transpose().drop([\"ndc432\", \"ndc442\"])\n",
    "genus_counts = pd.read_csv(\"abundances_by_tax_level_counts_high_confidence/Genus_otu_table.csv\", index_col=0).transpose().drop([\"ndc432\", \"ndc442\"])\n",
    "metadata= pd.read_csv(\"sample_metadata.csv\", index_col=0)"
   ]
  },
  {
   "cell_type": "code",
   "execution_count": 8,
   "metadata": {},
   "outputs": [
    {
     "name": "stdout",
     "output_type": "stream",
     "text": [
      "index 0 is out of bounds for axis 0 with size 0\n",
      "141.0 10 days\n",
      "index 0 is out of bounds for axis 0 with size 0\n",
      "141.0 3 days\n",
      "index 0 is out of bounds for axis 0 with size 0\n",
      "141.0 8 weeks\n",
      "index 0 is out of bounds for axis 0 with size 0\n",
      "159.0 8 weeks\n"
     ]
    }
   ],
   "source": [
    "genus_engraftment = engraftment_capability_all_otus_all_timepoints(genus_counts, genus_percent, metadata)"
   ]
  },
  {
   "cell_type": "code",
   "execution_count": 11,
   "metadata": {},
   "outputs": [
    {
     "data": {
      "text/plain": [
       "array(['Actinomyces', 'Actinomyces', 'Akkermansia', ..., 'Tyzzerella',\n",
       "       'Veillonella', 'Veillonella'], dtype=object)"
      ]
     },
     "execution_count": 11,
     "metadata": {},
     "output_type": "execute_result"
    }
   ],
   "source": [
    "genus_engraftment.otu.values"
   ]
  },
  {
   "cell_type": "code",
   "execution_count": null,
   "metadata": {
    "collapsed": true
   },
   "outputs": [],
   "source": []
  }
 ],
 "metadata": {
  "kernelspec": {
   "display_name": "Python [conda env:py35]",
   "language": "python",
   "name": "conda-env-py35-py"
  },
  "language_info": {
   "codemirror_mode": {
    "name": "ipython",
    "version": 3
   },
   "file_extension": ".py",
   "mimetype": "text/x-python",
   "name": "python",
   "nbconvert_exporter": "python",
   "pygments_lexer": "ipython3",
   "version": "3.5.3"
  }
 },
 "nbformat": 4,
 "nbformat_minor": 2
}

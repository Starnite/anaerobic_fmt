{
 "cells": [
  {
   "cell_type": "code",
   "execution_count": 2,
   "metadata": {
    "collapsed": true,
    "deletable": true,
    "editable": true
   },
   "outputs": [],
   "source": [
    "import pandas as pd\n",
    "import seaborn as sns\n",
    "import matplotlib.pyplot as plt\n",
    "import numpy as np\n",
    "import os"
   ]
  },
  {
   "cell_type": "code",
   "execution_count": 10,
   "metadata": {
    "collapsed": false,
    "deletable": true,
    "editable": true
   },
   "outputs": [],
   "source": [
    "#load data\n",
    "seq_freq = pd.read_csv(\"nochim_sequences.csv\", index_col=0).transpose()\n",
    "seq_freq = seq_freq.rename(columns={\"ndc470\": \"ndc471\", \"ndc471\":\"ndc470\"})\n",
    "taxa = pd.read_csv(\"taxanomic_assignment.csv\", index_col=0)"
   ]
  },
  {
   "cell_type": "code",
   "execution_count": 11,
   "metadata": {
    "collapsed": false,
    "deletable": true,
    "editable": true
   },
   "outputs": [
    {
     "data": {
      "text/plain": [
       "[]"
      ]
     },
     "execution_count": 11,
     "metadata": {},
     "output_type": "execute_result"
    }
   ],
   "source": [
    "#check if the same samples are present in both sets of data\n",
    "tax_index = taxa.index\n",
    "seq_index = seq_freq.index\n",
    "diff = list(set(seq_index)-set(tax_index))\n",
    "diff"
   ]
  },
  {
   "cell_type": "code",
   "execution_count": 12,
   "metadata": {
    "collapsed": false,
    "deletable": true,
    "editable": true
   },
   "outputs": [
    {
     "data": {
      "text/html": [
       "<div>\n",
       "<style>\n",
       "    .dataframe thead tr:only-child th {\n",
       "        text-align: right;\n",
       "    }\n",
       "\n",
       "    .dataframe thead th {\n",
       "        text-align: left;\n",
       "    }\n",
       "\n",
       "    .dataframe tbody tr th {\n",
       "        vertical-align: top;\n",
       "    }\n",
       "</style>\n",
       "<table border=\"1\" class=\"dataframe\">\n",
       "  <thead>\n",
       "    <tr style=\"text-align: right;\">\n",
       "      <th></th>\n",
       "      <th>ndc407</th>\n",
       "      <th>ndc408</th>\n",
       "      <th>ndc409</th>\n",
       "      <th>ndc410</th>\n",
       "      <th>ndc411</th>\n",
       "      <th>ndc412</th>\n",
       "      <th>ndc413</th>\n",
       "      <th>ndc414</th>\n",
       "      <th>ndc415</th>\n",
       "      <th>ndc416</th>\n",
       "      <th>...</th>\n",
       "      <th>ndc466</th>\n",
       "      <th>ndc467</th>\n",
       "      <th>ndc468</th>\n",
       "      <th>ndc469</th>\n",
       "      <th>ndc471</th>\n",
       "      <th>ndc470</th>\n",
       "      <th>ndc472</th>\n",
       "      <th>ndc473</th>\n",
       "      <th>ndc474</th>\n",
       "      <th>ndc475</th>\n",
       "    </tr>\n",
       "  </thead>\n",
       "  <tbody>\n",
       "    <tr>\n",
       "      <th>TACAGAGGTCTCAAGCGTTGTTCGGAATCACTGGGCGTAAAGCGTGCGTAGGCTGTTTCGTAAGTCGTGTGTGAAAGGCGCGGGCTCAACCCGCGGACGGCACATGATACTGCGAGACTAGAGTAATGGAGGGGGAACCGGAATTCTCGGTGTAGCAGTGAAATGCGTAGATATCGAGAGGAACACTCGTGGCGAAGGCGGGTTCCTGGACATTAACTGACGCTGAGGCACGAAGGCCAGGGGAGCGAAAGGG</th>\n",
       "      <td>1011</td>\n",
       "      <td>41</td>\n",
       "      <td>49</td>\n",
       "      <td>1154</td>\n",
       "      <td>653</td>\n",
       "      <td>202</td>\n",
       "      <td>0</td>\n",
       "      <td>0</td>\n",
       "      <td>0</td>\n",
       "      <td>27</td>\n",
       "      <td>...</td>\n",
       "      <td>24299</td>\n",
       "      <td>70404</td>\n",
       "      <td>3061</td>\n",
       "      <td>0</td>\n",
       "      <td>826</td>\n",
       "      <td>36</td>\n",
       "      <td>181</td>\n",
       "      <td>865</td>\n",
       "      <td>0</td>\n",
       "      <td>0</td>\n",
       "    </tr>\n",
       "    <tr>\n",
       "      <th>TACGGAGGATCCGAGCGTTATCCGGATTTATTGGGTTTAAAGGGAGCGTAGATGGATGTTTAAGTCAGTTGTGAAAGTTTGCGGCTCAACCGTAAAATTGCAGTTGATACTGGATATCTTGAGTGCAGTTGAGGCAGGCGGAATTCGTGGTGTAGCGGTGAAATGCTTAGATATCACGAAGAACTCCGATTGCGAAGGCAGCCTGCTAAGCTGCAACTGACATTGAGGCTCGAAAGTGTGGGTATCAAACAGG</th>\n",
       "      <td>46</td>\n",
       "      <td>0</td>\n",
       "      <td>0</td>\n",
       "      <td>754</td>\n",
       "      <td>4720</td>\n",
       "      <td>473</td>\n",
       "      <td>0</td>\n",
       "      <td>0</td>\n",
       "      <td>0</td>\n",
       "      <td>0</td>\n",
       "      <td>...</td>\n",
       "      <td>0</td>\n",
       "      <td>0</td>\n",
       "      <td>123</td>\n",
       "      <td>0</td>\n",
       "      <td>577</td>\n",
       "      <td>0</td>\n",
       "      <td>2674</td>\n",
       "      <td>2229</td>\n",
       "      <td>0</td>\n",
       "      <td>0</td>\n",
       "    </tr>\n",
       "    <tr>\n",
       "      <th>AACGTAGGTCACAAGCGTTGTCCGGAATTACTGGGTGTAAAGGGAGCGCAGGCGGGAAGACAAGTTGGAAGTGAAATCTATGGGCTCAACCCATAAACTGCTTTCAAAACTGTTTTTCTTGAGTAGTGCAGAGGTAGGCGGAATTCCCGGTGTAGCGGTGGAATGCGTAGATATCGGGAGGAACACCAGTGGCGAAGGCGGCCTACTGGGCACCAACTGACGCTGAGGCTCGAAAGTGTGGGTAGCAAACAGG</th>\n",
       "      <td>1600</td>\n",
       "      <td>2776</td>\n",
       "      <td>1173</td>\n",
       "      <td>2774</td>\n",
       "      <td>5103</td>\n",
       "      <td>504</td>\n",
       "      <td>4736</td>\n",
       "      <td>4197</td>\n",
       "      <td>0</td>\n",
       "      <td>0</td>\n",
       "      <td>...</td>\n",
       "      <td>3854</td>\n",
       "      <td>58</td>\n",
       "      <td>1881</td>\n",
       "      <td>872</td>\n",
       "      <td>2331</td>\n",
       "      <td>745</td>\n",
       "      <td>1290</td>\n",
       "      <td>1700</td>\n",
       "      <td>1592</td>\n",
       "      <td>980</td>\n",
       "    </tr>\n",
       "    <tr>\n",
       "      <th>TACGGAGGATCCGAGCGTTATCCGGATTTATTGGGTTTAAAGGGAGCGTAGGCGGACGCTTAAGTCAGTTGTGAAAGTTTGCGGCTCAACCGTAAAATTGCAGTTGATACTGGGTGTCTTGAGTACAGTAGAGGCAGGCGGAATTCGTGGTGTAGCGGTGAAATGCTTAGATATCACGAAGAACTCCGATTGCGAAGGCAGCTTGCTGGACTGTAACTGACGCTGATGCTCGAAAGTGTGGGTATCAAACAGG</th>\n",
       "      <td>0</td>\n",
       "      <td>1707</td>\n",
       "      <td>1527</td>\n",
       "      <td>233</td>\n",
       "      <td>810</td>\n",
       "      <td>0</td>\n",
       "      <td>2193</td>\n",
       "      <td>2110</td>\n",
       "      <td>0</td>\n",
       "      <td>163</td>\n",
       "      <td>...</td>\n",
       "      <td>8073</td>\n",
       "      <td>406</td>\n",
       "      <td>0</td>\n",
       "      <td>1167</td>\n",
       "      <td>184</td>\n",
       "      <td>1357</td>\n",
       "      <td>331</td>\n",
       "      <td>0</td>\n",
       "      <td>4025</td>\n",
       "      <td>5573</td>\n",
       "    </tr>\n",
       "    <tr>\n",
       "      <th>TACAGAGGTCTCAAGCGTTGTTCGGAATCACTGGGCGTAAAGCGTGCGTAGGCGGTTTCGTAAGTCGTGTGTGAAAGGCGGGGGCTCAACCCCCGGACTGCACATGATACTGCGAGACTAGAGTAATGGAGGGGGAACCGGAATTCTCGGTGTAGCAGTGAAATGCGTAGATATCGAGAGGAACACTCGTGGCGAAGGCGGGTTCCTGGACATTAACTGACGCTGAGGCACGAAGGCCAGGGGAGCGAAAGGG</th>\n",
       "      <td>0</td>\n",
       "      <td>0</td>\n",
       "      <td>0</td>\n",
       "      <td>0</td>\n",
       "      <td>0</td>\n",
       "      <td>0</td>\n",
       "      <td>0</td>\n",
       "      <td>0</td>\n",
       "      <td>0</td>\n",
       "      <td>0</td>\n",
       "      <td>...</td>\n",
       "      <td>0</td>\n",
       "      <td>0</td>\n",
       "      <td>0</td>\n",
       "      <td>0</td>\n",
       "      <td>0</td>\n",
       "      <td>0</td>\n",
       "      <td>0</td>\n",
       "      <td>0</td>\n",
       "      <td>0</td>\n",
       "      <td>0</td>\n",
       "    </tr>\n",
       "  </tbody>\n",
       "</table>\n",
       "<p>5 rows × 69 columns</p>\n",
       "</div>"
      ],
      "text/plain": [
       "                                                    ndc407  ndc408  ndc409  \\\n",
       "TACAGAGGTCTCAAGCGTTGTTCGGAATCACTGGGCGTAAAGCGTGC...    1011      41      49   \n",
       "TACGGAGGATCCGAGCGTTATCCGGATTTATTGGGTTTAAAGGGAGC...      46       0       0   \n",
       "AACGTAGGTCACAAGCGTTGTCCGGAATTACTGGGTGTAAAGGGAGC...    1600    2776    1173   \n",
       "TACGGAGGATCCGAGCGTTATCCGGATTTATTGGGTTTAAAGGGAGC...       0    1707    1527   \n",
       "TACAGAGGTCTCAAGCGTTGTTCGGAATCACTGGGCGTAAAGCGTGC...       0       0       0   \n",
       "\n",
       "                                                    ndc410  ndc411  ndc412  \\\n",
       "TACAGAGGTCTCAAGCGTTGTTCGGAATCACTGGGCGTAAAGCGTGC...    1154     653     202   \n",
       "TACGGAGGATCCGAGCGTTATCCGGATTTATTGGGTTTAAAGGGAGC...     754    4720     473   \n",
       "AACGTAGGTCACAAGCGTTGTCCGGAATTACTGGGTGTAAAGGGAGC...    2774    5103     504   \n",
       "TACGGAGGATCCGAGCGTTATCCGGATTTATTGGGTTTAAAGGGAGC...     233     810       0   \n",
       "TACAGAGGTCTCAAGCGTTGTTCGGAATCACTGGGCGTAAAGCGTGC...       0       0       0   \n",
       "\n",
       "                                                    ndc413  ndc414  ndc415  \\\n",
       "TACAGAGGTCTCAAGCGTTGTTCGGAATCACTGGGCGTAAAGCGTGC...       0       0       0   \n",
       "TACGGAGGATCCGAGCGTTATCCGGATTTATTGGGTTTAAAGGGAGC...       0       0       0   \n",
       "AACGTAGGTCACAAGCGTTGTCCGGAATTACTGGGTGTAAAGGGAGC...    4736    4197       0   \n",
       "TACGGAGGATCCGAGCGTTATCCGGATTTATTGGGTTTAAAGGGAGC...    2193    2110       0   \n",
       "TACAGAGGTCTCAAGCGTTGTTCGGAATCACTGGGCGTAAAGCGTGC...       0       0       0   \n",
       "\n",
       "                                                    ndc416   ...    ndc466  \\\n",
       "TACAGAGGTCTCAAGCGTTGTTCGGAATCACTGGGCGTAAAGCGTGC...      27   ...     24299   \n",
       "TACGGAGGATCCGAGCGTTATCCGGATTTATTGGGTTTAAAGGGAGC...       0   ...         0   \n",
       "AACGTAGGTCACAAGCGTTGTCCGGAATTACTGGGTGTAAAGGGAGC...       0   ...      3854   \n",
       "TACGGAGGATCCGAGCGTTATCCGGATTTATTGGGTTTAAAGGGAGC...     163   ...      8073   \n",
       "TACAGAGGTCTCAAGCGTTGTTCGGAATCACTGGGCGTAAAGCGTGC...       0   ...         0   \n",
       "\n",
       "                                                    ndc467  ndc468  ndc469  \\\n",
       "TACAGAGGTCTCAAGCGTTGTTCGGAATCACTGGGCGTAAAGCGTGC...   70404    3061       0   \n",
       "TACGGAGGATCCGAGCGTTATCCGGATTTATTGGGTTTAAAGGGAGC...       0     123       0   \n",
       "AACGTAGGTCACAAGCGTTGTCCGGAATTACTGGGTGTAAAGGGAGC...      58    1881     872   \n",
       "TACGGAGGATCCGAGCGTTATCCGGATTTATTGGGTTTAAAGGGAGC...     406       0    1167   \n",
       "TACAGAGGTCTCAAGCGTTGTTCGGAATCACTGGGCGTAAAGCGTGC...       0       0       0   \n",
       "\n",
       "                                                    ndc471  ndc470  ndc472  \\\n",
       "TACAGAGGTCTCAAGCGTTGTTCGGAATCACTGGGCGTAAAGCGTGC...     826      36     181   \n",
       "TACGGAGGATCCGAGCGTTATCCGGATTTATTGGGTTTAAAGGGAGC...     577       0    2674   \n",
       "AACGTAGGTCACAAGCGTTGTCCGGAATTACTGGGTGTAAAGGGAGC...    2331     745    1290   \n",
       "TACGGAGGATCCGAGCGTTATCCGGATTTATTGGGTTTAAAGGGAGC...     184    1357     331   \n",
       "TACAGAGGTCTCAAGCGTTGTTCGGAATCACTGGGCGTAAAGCGTGC...       0       0       0   \n",
       "\n",
       "                                                    ndc473  ndc474  ndc475  \n",
       "TACAGAGGTCTCAAGCGTTGTTCGGAATCACTGGGCGTAAAGCGTGC...     865       0       0  \n",
       "TACGGAGGATCCGAGCGTTATCCGGATTTATTGGGTTTAAAGGGAGC...    2229       0       0  \n",
       "AACGTAGGTCACAAGCGTTGTCCGGAATTACTGGGTGTAAAGGGAGC...    1700    1592     980  \n",
       "TACGGAGGATCCGAGCGTTATCCGGATTTATTGGGTTTAAAGGGAGC...       0    4025    5573  \n",
       "TACAGAGGTCTCAAGCGTTGTTCGGAATCACTGGGCGTAAAGCGTGC...       0       0       0  \n",
       "\n",
       "[5 rows x 69 columns]"
      ]
     },
     "execution_count": 12,
     "metadata": {},
     "output_type": "execute_result"
    }
   ],
   "source": [
    "seq_freq.head()"
   ]
  },
  {
   "cell_type": "code",
   "execution_count": 75,
   "metadata": {
    "collapsed": false,
    "deletable": true,
    "editable": true
   },
   "outputs": [
    {
     "data": {
      "image/png": "[encoded data removed]",
      "text/plain": [
       "<matplotlib.figure.Figure at 0x1130fd8d0>"
      ]
     },
     "metadata": {},
     "output_type": "display_data"
    }
   ],
   "source": [
    "#sequencing depth by sample\n",
    "seq_freq.loc[:, \"ndc407\":\"ndc475\"].sum().plot(kind=\"bar\")\n",
    "plt.show()"
   ]
  },
  {
   "cell_type": "code",
   "execution_count": 16,
   "metadata": {
    "collapsed": false,
    "deletable": true,
    "editable": true
   },
   "outputs": [
    {
     "data": {
      "image/png": "[encoded data removed]",
      "text/plain": [
       "<matplotlib.figure.Figure at 0x10ddf6160>"
      ]
     },
     "metadata": {},
     "output_type": "display_data"
    }
   ],
   "source": [
    "#plot distribution of sequence lengths\n",
    "seq_freq[\"Seq_len\"] = seq_freq.index.str.len()\n",
    "sns.distplot(seq_freq[\"Seq_len\"], kde=False)\n",
    "plt.show()"
   ]
  },
  {
   "cell_type": "code",
   "execution_count": 17,
   "metadata": {
    "collapsed": true,
    "deletable": true,
    "editable": true
   },
   "outputs": [],
   "source": [
    "#merge taxa and seq tables\n",
    "otu = pd.merge(taxa, seq_freq, left_index=True, right_index=True)"
   ]
  },
  {
   "cell_type": "code",
   "execution_count": 18,
   "metadata": {
    "collapsed": false,
    "deletable": true,
    "editable": true
   },
   "outputs": [
    {
     "data": {
      "image/png": "[encoded data removed]",
      "text/plain": [
       "<matplotlib.figure.Figure at 0x10d5e8278>"
      ]
     },
     "metadata": {},
     "output_type": "display_data"
    }
   ],
   "source": [
    "#Distribution of sequencing depth over all sequences\n",
    "sns.distplot(otu.sum(), kde=False, bins=100)\n",
    "plt.xlim(0,200000)\n",
    "plt.show()"
   ]
  },
  {
   "cell_type": "code",
   "execution_count": 19,
   "metadata": {
    "collapsed": false,
    "deletable": true,
    "editable": true
   },
   "outputs": [],
   "source": [
    "#filter out spurious sequences based on length\n",
    "otu_trim = otu[otu[\"Seq_len\"] >= 252]\n",
    "otu_trim = otu_trim[otu_trim[\"Seq_len\"] <= 254]\n",
    "otu_trim[\"total_abundance\"] = otu_trim.loc[:,\"ndc407\":\"ndc475\"].sum(axis=1)\n",
    "otu_trim[\"num_samples\"] = (otu_trim.loc[:,\"ndc407\":\"ndc475\"]>0).sum(axis=1)"
   ]
  },
  {
   "cell_type": "code",
   "execution_count": 20,
   "metadata": {
    "collapsed": false,
    "deletable": true,
    "editable": true
   },
   "outputs": [
    {
     "name": "stdout",
     "output_type": "stream",
     "text": [
      "(1588, 79)\n",
      "3593206\n"
     ]
    }
   ],
   "source": [
    "otu_trim_pseudo = otu_trim.copy()\n",
    "otu_trim_pseudo.loc[:, \"ndc407\":\"ndc475\"] = otu_trim_pseudo.loc[:, \"ndc407\":\"ndc475\"] +1\n",
    "otu_trim_relfreq = otu_trim.copy()\n",
    "otu_trim_relfreq.loc[:, \"ndc407\":\"ndc475\"] = otu_trim_relfreq.loc[:, \"ndc407\":\"ndc475\"]/otu_trim_relfreq.loc[:, \"ndc407\":\"ndc475\"].sum()\n",
    "#sum of rel. abundances\n",
    "otu_trim_relfreq[\"total_rel_abundance\"] = otu_trim_relfreq.loc[:, \"ndc407\":\"ndc475\"].sum(axis=1)\n",
    "print(otu_trim_relfreq.shape) \n",
    "print(otu_trim_relfreq[\"total_abundance\"].sum())"
   ]
  },
  {
   "cell_type": "code",
   "execution_count": 21,
   "metadata": {
    "collapsed": false,
    "deletable": true,
    "editable": true
   },
   "outputs": [
    {
     "name": "stdout",
     "output_type": "stream",
     "text": [
      "(984, 78)\n",
      "3536266\n"
     ]
    }
   ],
   "source": [
    "#filtering based on number of samples each seq var is in and the %reads it accounts for if only in one sample\n",
    "otu_trim_relfreq_filtered = otu_trim_relfreq[(otu_trim_relfreq.num_samples > 1)|(otu_trim_relfreq.total_rel_abundance > 0.05)].drop(\"Seq_len\", axis=1)\n",
    "otu_trim_relfreq_filtered.loc[:, \"ndc407\":\"ndc475\"] = otu_trim_relfreq_filtered.loc[:, \"ndc407\":\"ndc475\"]/otu_trim_relfreq_filtered.loc[:, \"ndc407\":\"ndc475\"].sum()\n",
    "print(otu_trim_relfreq_filtered.shape)\n",
    "print(otu_trim_relfreq_filtered[\"total_abundance\"].sum())"
   ]
  },
  {
   "cell_type": "code",
   "execution_count": 22,
   "metadata": {
    "collapsed": true,
    "deletable": true,
    "editable": true
   },
   "outputs": [],
   "source": [
    "otu_trim_relfreq_extra_filtered = otu_trim_relfreq[(otu_trim_relfreq.num_samples > 4)|(otu_trim_relfreq.total_rel_abundance > 0.15)].drop(\"Seq_len\", axis=1)\n",
    "otu_trim_relfreq_extra_filtered.loc[:, \"ndc407\":\"ndc475\"] = otu_trim_relfreq_extra_filtered.loc[:, \"ndc407\":\"ndc475\"]/otu_trim_relfreq_extra_filtered.loc[:, \"ndc407\":\"ndc475\"].sum()"
   ]
  },
  {
   "cell_type": "code",
   "execution_count": 23,
   "metadata": {
    "collapsed": false,
    "deletable": true,
    "editable": true
   },
   "outputs": [
    {
     "data": {
      "image/png": "[encoded data removed]",
      "text/plain": [
       "<matplotlib.figure.Figure at 0x10e307550>"
      ]
     },
     "metadata": {},
     "output_type": "display_data"
    }
   ],
   "source": [
    "sns.distplot(otu_trim_relfreq.num_samples, kde=False)\n",
    "plt.ylabel(\"% of seq vars\")\n",
    "plt.show()"
   ]
  },
  {
   "cell_type": "code",
   "execution_count": 24,
   "metadata": {
    "collapsed": false,
    "deletable": true,
    "editable": true
   },
   "outputs": [
    {
     "name": "stdout",
     "output_type": "stream",
     "text": [
      "Phylum\n",
      "# seq vars:  983\n",
      "# total reads:  3536217\n",
      "# classifications:  11\n",
      "Class\n",
      "# seq vars:  981\n",
      "# total reads:  3535514\n",
      "# classifications:  22\n",
      "Order\n",
      "# seq vars:  979\n",
      "# total reads:  3535471\n",
      "# classifications:  28\n",
      "Family\n",
      "# seq vars:  954\n",
      "# total reads:  3492992\n",
      "# classifications:  46\n",
      "Genus\n",
      "# seq vars:  750\n",
      "# total reads:  3268274\n",
      "# classifications:  146\n"
     ]
    }
   ],
   "source": [
    "# in more than one sample\n",
    "dfs = []\n",
    "dfs_count = []\n",
    "dfs_pseudo = []\n",
    "l = [\"Phylum\",\"Class\", \"Order\", \"Family\", \"Genus\"]\n",
    "for i, j in enumerate(l):\n",
    "    otu_trim_relfreq_group = otu_trim_relfreq_filtered.dropna(subset=l[:i+1])\n",
    "    otu_trim_group = otu_trim.dropna(subset=l[:i+1])\n",
    "    print(j)\n",
    "    print(\"# seq vars: \", otu_trim_relfreq_group.shape[0])\n",
    "    print(\"# total reads: \", otu_trim_relfreq_group[\"total_abundance\"].sum())\n",
    "    \n",
    "    grouped = otu_trim_relfreq_group.groupby(j).sum()\n",
    "    grouped_counts = otu_trim_group.groupby(j).sum()\n",
    "    grouped[\"num_samples\"] = (grouped.loc[:,\"ndc407\":\"ndc475\"]>0).sum(axis=1)\n",
    "    grouped.loc[:, \"ndc407\":\"ndc475\"] = grouped.loc[:, \"ndc407\":\"ndc475\"]/grouped.loc[:, \"ndc407\":\"ndc475\"].sum()\n",
    "    dfs.append(grouped.loc[:,\"ndc407\":\"ndc475\"])\n",
    "    dfs_count.append(grouped_counts[grouped_counts.index.isin(grouped.index)].loc[:,\"ndc407\":\"ndc475\"])\n",
    "    dfs_pseudo.append(grouped_counts[grouped_counts.index.isin(grouped.index)].loc[:,\"ndc407\":\"ndc475\"] + 1)\n",
    "    print(\"# classifications: \", grouped.shape[0])\n",
    "\n",
    "for df in dfs:\n",
    "    df.to_csv(\"abundances_by_tax_level_relfreq/{}_otu_table.csv\".format(df.index.name))\n",
    "for df_count in dfs_count:\n",
    "    df_count.to_csv(\"abundances_by_tax_level_counts/{}_otu_table.csv\".format(df_count.index.name))\n",
    "for df_pseudo in dfs_pseudo:\n",
    "    df_pseudo.to_csv(\"abundances_by_tax_level_pseudocounts/{}_otu_table.csv\".format(df_count.index.name))\n",
    "\n"
   ]
  },
  {
   "cell_type": "code",
   "execution_count": 25,
   "metadata": {
    "collapsed": false,
    "deletable": true,
    "editable": true
   },
   "outputs": [
    {
     "name": "stdout",
     "output_type": "stream",
     "text": [
      "Phylum\n",
      "# seq vars:  983\n",
      "# total reads:  3536217\n",
      "# classifications:  7\n",
      "Class\n",
      "# seq vars:  981\n",
      "# total reads:  3535514\n",
      "# classifications:  13\n",
      "Order\n",
      "# seq vars:  979\n",
      "# total reads:  3535471\n",
      "# classifications:  13\n",
      "Family\n",
      "# seq vars:  954\n",
      "# total reads:  3492992\n",
      "# classifications:  27\n",
      "Genus\n",
      "# seq vars:  750\n",
      "# total reads:  3268274\n",
      "# classifications:  75\n"
     ]
    }
   ],
   "source": [
    "# high confidence otus: otu in > 25% of samples\n",
    "dfs = []\n",
    "dfs_count = []\n",
    "dfs_pseudo = []\n",
    "l = [\"Phylum\",\"Class\", \"Order\", \"Family\", \"Genus\"]\n",
    "for i, j in enumerate(l):\n",
    "    otu_trim_relfreq_group = otu_trim_relfreq_filtered.dropna(subset=l[:i+1])\n",
    "    otu_trim_group = otu_trim.dropna(subset=l[:i+1])\n",
    "    print(j)\n",
    "    print(\"# seq vars: \", otu_trim_relfreq_group.shape[0])\n",
    "    print(\"# total reads: \", otu_trim_relfreq_group[\"total_abundance\"].sum())\n",
    "    \n",
    "    grouped = otu_trim_relfreq_group.groupby(j).sum()\n",
    "    grouped_counts = otu_trim_group.groupby(j).sum()\n",
    "    grouped[\"num_samples\"] = (grouped.loc[:,\"ndc407\":\"ndc475\"]>0).sum(axis=1)\n",
    "    grouped = grouped[grouped[\"num_samples\"] > 0.25*max(grouped.num_samples)]\n",
    "    grouped.loc[:, \"ndc407\":\"ndc475\"] = grouped.loc[:, \"ndc407\":\"ndc475\"]/grouped.loc[:, \"ndc407\":\"ndc475\"].sum()\n",
    "    dfs.append(grouped.loc[:,\"ndc407\":\"ndc475\"])\n",
    "    dfs_count.append(grouped_counts[grouped_counts.index.isin(grouped.index)].loc[:,\"ndc407\":\"ndc475\"])\n",
    "    dfs_pseudo.append(grouped_counts[grouped_counts.index.isin(grouped.index)].loc[:,\"ndc407\":\"ndc475\"] + 1)\n",
    "    print(\"# classifications: \", grouped.shape[0])\n",
    "\n",
    "for df in dfs:\n",
    "    df.to_csv(\"abundances_by_tax_level_relfreq_high_confidence/{}_otu_table.csv\".format(df.index.name))\n",
    "for df_count in dfs_count:\n",
    "    df_count.to_csv(\"abundances_by_tax_level_counts_high_confidence/{}_otu_table.csv\".format(df_count.index.name))\n",
    "for df_pseudo in dfs_pseudo:\n",
    "    df_pseudo.to_csv(\"abundances_by_tax_level_pseudocounts_high_confidence/{}_otu_table.csv\".format(df_count.index.name))\n"
   ]
  },
  {
   "cell_type": "code",
   "execution_count": 26,
   "metadata": {
    "collapsed": false,
    "deletable": true,
    "editable": true
   },
   "outputs": [
    {
     "name": "stdout",
     "output_type": "stream",
     "text": [
      "Phylum\n",
      "# seq vars:  983\n",
      "# total reads:  3536217\n",
      "# classifications:  11\n",
      "Class\n",
      "# seq vars:  981\n",
      "# total reads:  3535514\n",
      "# classifications:  22\n",
      "Order\n",
      "# seq vars:  979\n",
      "# total reads:  3535471\n",
      "# classifications:  28\n",
      "Family\n",
      "# seq vars:  954\n",
      "# total reads:  3492992\n",
      "# classifications:  46\n",
      "Genus\n",
      "# seq vars:  750\n",
      "# total reads:  3268274\n",
      "# classifications:  146\n"
     ]
    }
   ],
   "source": [
    "dfs = []\n",
    "l = [\"Phylum\",\"Class\", \"Order\", \"Family\", \"Genus\"]\n",
    "for i, j in enumerate(l):\n",
    "    otu_trim_relfreq_group = otu_trim_relfreq_filtered.dropna(subset=l[:i+1])\n",
    "    print(j)\n",
    "    print(\"# seq vars: \", otu_trim_relfreq_group.shape[0])\n",
    "    print(\"# total reads: \", otu_trim_relfreq_group[\"total_abundance\"].sum())\n",
    "    \n",
    "    grouped = otu_trim_relfreq_group.groupby(j).sum()\n",
    "    \n",
    "    grouped.loc[:, \"ndc407\":\"ndc475\"] = grouped.loc[:, \"ndc407\":\"ndc475\"]/grouped.loc[:, \"ndc407\":\"ndc475\"].sum()\n",
    "    grouped[\"num_samples\"] = (grouped.loc[:,\"ndc407\":\"ndc475\"]>0).sum(axis=1)\n",
    "    dfs.append(grouped.loc[:,\"ndc407\":\"ndc475\"])\n",
    "    print(\"# classifications: \", grouped.shape[0])"
   ]
  },
  {
   "cell_type": "code",
   "execution_count": 27,
   "metadata": {
    "collapsed": true,
    "deletable": true,
    "editable": true,
    "scrolled": true
   },
   "outputs": [],
   "source": [
    "otu_trim_pseudo_filtered = otu_trim_pseudo[otu_trim_pseudo.index.isin(otu_trim_relfreq_filtered.index)]\n",
    "otu_trim_filtered = otu_trim[otu_trim.index.isin(otu_trim_relfreq_filtered.index)]\n",
    "\n"
   ]
  },
  {
   "cell_type": "code",
   "execution_count": 28,
   "metadata": {
    "collapsed": true,
    "deletable": true,
    "editable": true
   },
   "outputs": [],
   "source": [
    "otu_trim_extra_filtered = otu_trim[otu_trim.index.isin(otu_trim_relfreq_extra_filtered.index)]\n",
    "otu_trim_extra_filtered.loc[:,\"ndc407\":\"ndc475\"].to_csv(\"all_filtered_otu_table_counts_extra.csv\")"
   ]
  },
  {
   "cell_type": "code",
   "execution_count": 29,
   "metadata": {
    "collapsed": false,
    "deletable": true,
    "editable": true
   },
   "outputs": [
    {
     "data": {
      "text/plain": [
       "(516, 78)"
      ]
     },
     "execution_count": 29,
     "metadata": {},
     "output_type": "execute_result"
    }
   ],
   "source": [
    "otu_trim_extra_filtered.shape"
   ]
  },
  {
   "cell_type": "code",
   "execution_count": 30,
   "metadata": {
    "collapsed": false,
    "deletable": true,
    "editable": true
   },
   "outputs": [
    {
     "data": {
      "text/plain": [
       "(984, 78)"
      ]
     },
     "execution_count": 30,
     "metadata": {},
     "output_type": "execute_result"
    }
   ],
   "source": [
    "otu_trim_filtered.shape"
   ]
  },
  {
   "cell_type": "code",
   "execution_count": 31,
   "metadata": {
    "collapsed": false,
    "deletable": true,
    "editable": true
   },
   "outputs": [
    {
     "name": "stdout",
     "output_type": "stream",
     "text": [
      "Phylum\n",
      "# seq vars:  983\n",
      "# total reads:  3536217\n",
      "# classifications:  11\n",
      "Class\n",
      "# seq vars:  981\n",
      "# total reads:  3535514\n",
      "# classifications:  22\n",
      "Order\n",
      "# seq vars:  979\n",
      "# total reads:  3535471\n",
      "# classifications:  28\n",
      "Family\n",
      "# seq vars:  954\n",
      "# total reads:  3492992\n",
      "# classifications:  46\n",
      "Genus\n",
      "# seq vars:  750\n",
      "# total reads:  3268274\n",
      "# classifications:  146\n"
     ]
    }
   ],
   "source": [
    "dfs_count = []\n",
    "l = [\"Phylum\",\"Class\", \"Order\", \"Family\", \"Genus\"]\n",
    "for i, j in enumerate(l):\n",
    "    otu_trim_group = otu_trim_filtered.dropna(subset=l[:i+1])\n",
    "    print(j)\n",
    "    print(\"# seq vars: \", otu_trim_group.shape[0])\n",
    "    print(\"# total reads: \", otu_trim_group[\"total_abundance\"].sum())\n",
    "    grouped = otu_trim_group.groupby(j).sum()\n",
    "    dfs_count.append(grouped.loc[:,\"ndc407\":\"ndc475\"])\n",
    "    print(\"# classifications: \", grouped.shape[0])"
   ]
  },
  {
   "cell_type": "code",
   "execution_count": 33,
   "metadata": {
    "collapsed": false,
    "deletable": true,
    "editable": true
   },
   "outputs": [],
   "source": [
    "#saving otu tables separately, collapsed to taxa levels\n",
    "for df in dfs:\n",
    "    df.to_csv(\"abundances_by_tax_level_relfreq/{}_otu_table.csv\".format(df.index.name))\n",
    "for df_count in dfs_count:\n",
    "    df_count.to_csv(\"abundances_by_tax_level_counts/{}_otu_table.csv\".format(df_count.index.name))\n",
    "#saving all sequence variants in relative abundance\n",
    "otu_trim_relfreq_filtered.loc[:,\"ndc407\":\"ndc475\"].to_csv(\"all_filtered_otu_table.csv\")\n",
    "#saving pseudocounts\n",
    "otu_trim_pseudo_filtered.loc[:,\"ndc407\":\"ndc475\"].to_csv(\"all_filtered_otu_table_pseudocounts.csv\")\n",
    "#saving counts\n",
    "otu_trim_filtered.loc[:,\"ndc407\":\"ndc475\"].to_csv(\"all_filtered_otu_table_counts.csv\")"
   ]
  },
  {
   "cell_type": "code",
   "execution_count": 34,
   "metadata": {
    "collapsed": true,
    "deletable": true,
    "editable": true
   },
   "outputs": [],
   "source": [
    "metadata = pd.read_csv(\"sample_metadata.csv\", index_col=0)"
   ]
  },
  {
   "cell_type": "code",
   "execution_count": 35,
   "metadata": {
    "collapsed": false,
    "deletable": true,
    "editable": true
   },
   "outputs": [
    {
     "data": {
      "text/html": [
       "<div>\n",
       "<style>\n",
       "    .dataframe thead tr:only-child th {\n",
       "        text-align: right;\n",
       "    }\n",
       "\n",
       "    .dataframe thead th {\n",
       "        text-align: left;\n",
       "    }\n",
       "\n",
       "    .dataframe tbody tr th {\n",
       "        vertical-align: top;\n",
       "    }\n",
       "</style>\n",
       "<table border=\"1\" class=\"dataframe\">\n",
       "  <thead>\n",
       "    <tr style=\"text-align: right;\">\n",
       "      <th></th>\n",
       "      <th>ndc407</th>\n",
       "      <th>ndc408</th>\n",
       "      <th>ndc409</th>\n",
       "      <th>ndc410</th>\n",
       "      <th>ndc411</th>\n",
       "      <th>ndc412</th>\n",
       "      <th>ndc413</th>\n",
       "      <th>ndc414</th>\n",
       "      <th>ndc415</th>\n",
       "      <th>ndc416</th>\n",
       "      <th>...</th>\n",
       "      <th>ndc467</th>\n",
       "      <th>ndc468</th>\n",
       "      <th>ndc469</th>\n",
       "      <th>ndc471</th>\n",
       "      <th>ndc470</th>\n",
       "      <th>ndc472</th>\n",
       "      <th>ndc473</th>\n",
       "      <th>ndc474</th>\n",
       "      <th>ndc475</th>\n",
       "      <th>Seq_len</th>\n",
       "    </tr>\n",
       "  </thead>\n",
       "  <tbody>\n",
       "    <tr>\n",
       "      <th>TACAGAGGTCTCAAGCGTTGTTCGGAATCACTGGGCGTAAAGCGTGCGTAGGCTGTTTCGTAAGTCGTGTGTGAAAGGCGCGGGCTCAACCCGCGGACGGCACATGATACTGCGAGACTAGAGTAATGGAGGGGGAACCGGAATTCTCGGTGTAGCAGTGAAATGCGTAGATATCGAGAGGAACACTCGTGGCGAAGGCGGGTTCCTGGACATTAACTGACGCTGAGGCACGAAGGCCAGGGGAGCGAAAGGG</th>\n",
       "      <td>1011</td>\n",
       "      <td>41</td>\n",
       "      <td>49</td>\n",
       "      <td>1154</td>\n",
       "      <td>653</td>\n",
       "      <td>202</td>\n",
       "      <td>0</td>\n",
       "      <td>0</td>\n",
       "      <td>0</td>\n",
       "      <td>27</td>\n",
       "      <td>...</td>\n",
       "      <td>70404</td>\n",
       "      <td>3061</td>\n",
       "      <td>0</td>\n",
       "      <td>826</td>\n",
       "      <td>36</td>\n",
       "      <td>181</td>\n",
       "      <td>865</td>\n",
       "      <td>0</td>\n",
       "      <td>0</td>\n",
       "      <td>253</td>\n",
       "    </tr>\n",
       "    <tr>\n",
       "      <th>TACGGAGGATCCGAGCGTTATCCGGATTTATTGGGTTTAAAGGGAGCGTAGATGGATGTTTAAGTCAGTTGTGAAAGTTTGCGGCTCAACCGTAAAATTGCAGTTGATACTGGATATCTTGAGTGCAGTTGAGGCAGGCGGAATTCGTGGTGTAGCGGTGAAATGCTTAGATATCACGAAGAACTCCGATTGCGAAGGCAGCCTGCTAAGCTGCAACTGACATTGAGGCTCGAAAGTGTGGGTATCAAACAGG</th>\n",
       "      <td>46</td>\n",
       "      <td>0</td>\n",
       "      <td>0</td>\n",
       "      <td>754</td>\n",
       "      <td>4720</td>\n",
       "      <td>473</td>\n",
       "      <td>0</td>\n",
       "      <td>0</td>\n",
       "      <td>0</td>\n",
       "      <td>0</td>\n",
       "      <td>...</td>\n",
       "      <td>0</td>\n",
       "      <td>123</td>\n",
       "      <td>0</td>\n",
       "      <td>577</td>\n",
       "      <td>0</td>\n",
       "      <td>2674</td>\n",
       "      <td>2229</td>\n",
       "      <td>0</td>\n",
       "      <td>0</td>\n",
       "      <td>253</td>\n",
       "    </tr>\n",
       "    <tr>\n",
       "      <th>AACGTAGGTCACAAGCGTTGTCCGGAATTACTGGGTGTAAAGGGAGCGCAGGCGGGAAGACAAGTTGGAAGTGAAATCTATGGGCTCAACCCATAAACTGCTTTCAAAACTGTTTTTCTTGAGTAGTGCAGAGGTAGGCGGAATTCCCGGTGTAGCGGTGGAATGCGTAGATATCGGGAGGAACACCAGTGGCGAAGGCGGCCTACTGGGCACCAACTGACGCTGAGGCTCGAAAGTGTGGGTAGCAAACAGG</th>\n",
       "      <td>1600</td>\n",
       "      <td>2776</td>\n",
       "      <td>1173</td>\n",
       "      <td>2774</td>\n",
       "      <td>5103</td>\n",
       "      <td>504</td>\n",
       "      <td>4736</td>\n",
       "      <td>4197</td>\n",
       "      <td>0</td>\n",
       "      <td>0</td>\n",
       "      <td>...</td>\n",
       "      <td>58</td>\n",
       "      <td>1881</td>\n",
       "      <td>872</td>\n",
       "      <td>2331</td>\n",
       "      <td>745</td>\n",
       "      <td>1290</td>\n",
       "      <td>1700</td>\n",
       "      <td>1592</td>\n",
       "      <td>980</td>\n",
       "      <td>253</td>\n",
       "    </tr>\n",
       "    <tr>\n",
       "      <th>TACGGAGGATCCGAGCGTTATCCGGATTTATTGGGTTTAAAGGGAGCGTAGGCGGACGCTTAAGTCAGTTGTGAAAGTTTGCGGCTCAACCGTAAAATTGCAGTTGATACTGGGTGTCTTGAGTACAGTAGAGGCAGGCGGAATTCGTGGTGTAGCGGTGAAATGCTTAGATATCACGAAGAACTCCGATTGCGAAGGCAGCTTGCTGGACTGTAACTGACGCTGATGCTCGAAAGTGTGGGTATCAAACAGG</th>\n",
       "      <td>0</td>\n",
       "      <td>1707</td>\n",
       "      <td>1527</td>\n",
       "      <td>233</td>\n",
       "      <td>810</td>\n",
       "      <td>0</td>\n",
       "      <td>2193</td>\n",
       "      <td>2110</td>\n",
       "      <td>0</td>\n",
       "      <td>163</td>\n",
       "      <td>...</td>\n",
       "      <td>406</td>\n",
       "      <td>0</td>\n",
       "      <td>1167</td>\n",
       "      <td>184</td>\n",
       "      <td>1357</td>\n",
       "      <td>331</td>\n",
       "      <td>0</td>\n",
       "      <td>4025</td>\n",
       "      <td>5573</td>\n",
       "      <td>253</td>\n",
       "    </tr>\n",
       "    <tr>\n",
       "      <th>TACAGAGGTCTCAAGCGTTGTTCGGAATCACTGGGCGTAAAGCGTGCGTAGGCGGTTTCGTAAGTCGTGTGTGAAAGGCGGGGGCTCAACCCCCGGACTGCACATGATACTGCGAGACTAGAGTAATGGAGGGGGAACCGGAATTCTCGGTGTAGCAGTGAAATGCGTAGATATCGAGAGGAACACTCGTGGCGAAGGCGGGTTCCTGGACATTAACTGACGCTGAGGCACGAAGGCCAGGGGAGCGAAAGGG</th>\n",
       "      <td>0</td>\n",
       "      <td>0</td>\n",
       "      <td>0</td>\n",
       "      <td>0</td>\n",
       "      <td>0</td>\n",
       "      <td>0</td>\n",
       "      <td>0</td>\n",
       "      <td>0</td>\n",
       "      <td>0</td>\n",
       "      <td>0</td>\n",
       "      <td>...</td>\n",
       "      <td>0</td>\n",
       "      <td>0</td>\n",
       "      <td>0</td>\n",
       "      <td>0</td>\n",
       "      <td>0</td>\n",
       "      <td>0</td>\n",
       "      <td>0</td>\n",
       "      <td>0</td>\n",
       "      <td>0</td>\n",
       "      <td>253</td>\n",
       "    </tr>\n",
       "  </tbody>\n",
       "</table>\n",
       "<p>5 rows × 70 columns</p>\n",
       "</div>"
      ],
      "text/plain": [
       "                                                    ndc407  ndc408  ndc409  \\\n",
       "TACAGAGGTCTCAAGCGTTGTTCGGAATCACTGGGCGTAAAGCGTGC...    1011      41      49   \n",
       "TACGGAGGATCCGAGCGTTATCCGGATTTATTGGGTTTAAAGGGAGC...      46       0       0   \n",
       "AACGTAGGTCACAAGCGTTGTCCGGAATTACTGGGTGTAAAGGGAGC...    1600    2776    1173   \n",
       "TACGGAGGATCCGAGCGTTATCCGGATTTATTGGGTTTAAAGGGAGC...       0    1707    1527   \n",
       "TACAGAGGTCTCAAGCGTTGTTCGGAATCACTGGGCGTAAAGCGTGC...       0       0       0   \n",
       "\n",
       "                                                    ndc410  ndc411  ndc412  \\\n",
       "TACAGAGGTCTCAAGCGTTGTTCGGAATCACTGGGCGTAAAGCGTGC...    1154     653     202   \n",
       "TACGGAGGATCCGAGCGTTATCCGGATTTATTGGGTTTAAAGGGAGC...     754    4720     473   \n",
       "AACGTAGGTCACAAGCGTTGTCCGGAATTACTGGGTGTAAAGGGAGC...    2774    5103     504   \n",
       "TACGGAGGATCCGAGCGTTATCCGGATTTATTGGGTTTAAAGGGAGC...     233     810       0   \n",
       "TACAGAGGTCTCAAGCGTTGTTCGGAATCACTGGGCGTAAAGCGTGC...       0       0       0   \n",
       "\n",
       "                                                    ndc413  ndc414  ndc415  \\\n",
       "TACAGAGGTCTCAAGCGTTGTTCGGAATCACTGGGCGTAAAGCGTGC...       0       0       0   \n",
       "TACGGAGGATCCGAGCGTTATCCGGATTTATTGGGTTTAAAGGGAGC...       0       0       0   \n",
       "AACGTAGGTCACAAGCGTTGTCCGGAATTACTGGGTGTAAAGGGAGC...    4736    4197       0   \n",
       "TACGGAGGATCCGAGCGTTATCCGGATTTATTGGGTTTAAAGGGAGC...    2193    2110       0   \n",
       "TACAGAGGTCTCAAGCGTTGTTCGGAATCACTGGGCGTAAAGCGTGC...       0       0       0   \n",
       "\n",
       "                                                    ndc416   ...     ndc467  \\\n",
       "TACAGAGGTCTCAAGCGTTGTTCGGAATCACTGGGCGTAAAGCGTGC...      27   ...      70404   \n",
       "TACGGAGGATCCGAGCGTTATCCGGATTTATTGGGTTTAAAGGGAGC...       0   ...          0   \n",
       "AACGTAGGTCACAAGCGTTGTCCGGAATTACTGGGTGTAAAGGGAGC...       0   ...         58   \n",
       "TACGGAGGATCCGAGCGTTATCCGGATTTATTGGGTTTAAAGGGAGC...     163   ...        406   \n",
       "TACAGAGGTCTCAAGCGTTGTTCGGAATCACTGGGCGTAAAGCGTGC...       0   ...          0   \n",
       "\n",
       "                                                    ndc468  ndc469  ndc471  \\\n",
       "TACAGAGGTCTCAAGCGTTGTTCGGAATCACTGGGCGTAAAGCGTGC...    3061       0     826   \n",
       "TACGGAGGATCCGAGCGTTATCCGGATTTATTGGGTTTAAAGGGAGC...     123       0     577   \n",
       "AACGTAGGTCACAAGCGTTGTCCGGAATTACTGGGTGTAAAGGGAGC...    1881     872    2331   \n",
       "TACGGAGGATCCGAGCGTTATCCGGATTTATTGGGTTTAAAGGGAGC...       0    1167     184   \n",
       "TACAGAGGTCTCAAGCGTTGTTCGGAATCACTGGGCGTAAAGCGTGC...       0       0       0   \n",
       "\n",
       "                                                    ndc470  ndc472  ndc473  \\\n",
       "TACAGAGGTCTCAAGCGTTGTTCGGAATCACTGGGCGTAAAGCGTGC...      36     181     865   \n",
       "TACGGAGGATCCGAGCGTTATCCGGATTTATTGGGTTTAAAGGGAGC...       0    2674    2229   \n",
       "AACGTAGGTCACAAGCGTTGTCCGGAATTACTGGGTGTAAAGGGAGC...     745    1290    1700   \n",
       "TACGGAGGATCCGAGCGTTATCCGGATTTATTGGGTTTAAAGGGAGC...    1357     331       0   \n",
       "TACAGAGGTCTCAAGCGTTGTTCGGAATCACTGGGCGTAAAGCGTGC...       0       0       0   \n",
       "\n",
       "                                                    ndc474  ndc475  Seq_len  \n",
       "TACAGAGGTCTCAAGCGTTGTTCGGAATCACTGGGCGTAAAGCGTGC...       0       0      253  \n",
       "TACGGAGGATCCGAGCGTTATCCGGATTTATTGGGTTTAAAGGGAGC...       0       0      253  \n",
       "AACGTAGGTCACAAGCGTTGTCCGGAATTACTGGGTGTAAAGGGAGC...    1592     980      253  \n",
       "TACGGAGGATCCGAGCGTTATCCGGATTTATTGGGTTTAAAGGGAGC...    4025    5573      253  \n",
       "TACAGAGGTCTCAAGCGTTGTTCGGAATCACTGGGCGTAAAGCGTGC...       0       0      253  \n",
       "\n",
       "[5 rows x 70 columns]"
      ]
     },
     "execution_count": 35,
     "metadata": {},
     "output_type": "execute_result"
    }
   ],
   "source": [
    "seq_freq.head()"
   ]
  },
  {
   "cell_type": "code",
   "execution_count": 40,
   "metadata": {
    "collapsed": false,
    "deletable": true,
    "editable": true
   },
   "outputs": [
    {
     "data": {
      "text/plain": [
       "(997, 20)"
      ]
     },
     "execution_count": 40,
     "metadata": {},
     "output_type": "execute_result"
    }
   ],
   "source": [
    "metadata.shape"
   ]
  },
  {
   "cell_type": "code",
   "execution_count": null,
   "metadata": {
    "collapsed": true,
    "deletable": true,
    "editable": true
   },
   "outputs": [],
   "source": []
  }
 ],
 "metadata": {
  "anaconda-cloud": {},
  "kernelspec": {
   "display_name": "Python 3",
   "language": "python",
   "name": "python3"
  },
  "language_info": {
   "codemirror_mode": {
    "name": "ipython",
    "version": 3
   },
   "file_extension": ".py",
   "mimetype": "text/x-python",
   "name": "python",
   "nbconvert_exporter": "python",
   "pygments_lexer": "ipython3",
   "version": "3.6.0"
  }
 },
 "nbformat": 4,
 "nbformat_minor": 2
}
